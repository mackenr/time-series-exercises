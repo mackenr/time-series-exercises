{
 "cells": [
  {
   "cell_type": "markdown",
   "metadata": {},
   "source": [
    "\n",
    "### Exercises\n",
    "\n",
    "Create a new local git repository and remote repository on github named time-series-exercises. Save this work for this module in your time-series-exercises repo.\n",
    "\n",
    "The end result of this exercise should be a file named acquire.py.\n",
    "\n",
    "\n",
    "\n",
    "1. Using the code from the lesson as a guide and the REST API from https://python.zgulde.net/api/v1/items as we did in the lesson, create a dataframe named items that has all of the data for items.\n",
    "2. Do the same thing, but for stores (https://python.zgulde.net/api/v1/stores)\n",
    "3. Extract the data for sales (https://python.zgulde.net/api/v1/sales). There are a lot of pages of data here, so your code will need to be a little more complex. Your code should continue fetching data from the next page until all of the data is extracted.\n",
    "4. Save the data in your files to local csv files so that it will be faster to access in the future.\n",
    "5. Combine the data from your three separate dataframes into one large dataframe.\n",
    "6. Acquire the Open Power Systems Data for Germany, which has been rapidly expanding its renewable energy production in recent years. The data set includes country-wide totals of electricity consumption, wind power production, and solar power production for 2006-2017. You can get the data here: https://raw.githubusercontent.com/jenfly/opsd/master/opsd_germany_daily.csv\n",
    "7. Make sure all the work that you have done above is reproducible. That is, you should put the code above into separate functions in the acquire.py file and be able to re-run the functions and get the same data."
   ]
  },
  {
   "cell_type": "code",
   "execution_count": 5,
   "metadata": {},
   "outputs": [
    {
     "data": {
      "text/plain": [
       "{'key1': 'quote', 'key2': 'author'}"
      ]
     },
     "execution_count": 5,
     "metadata": {},
     "output_type": "execute_result"
    }
   ],
   "source": [
    "import requests\n",
    "import pandas as pd\n",
    "\n",
    "\n",
    "def payloadkeysFinder(full_url):\n",
    "    response=requests.get(full_url)\n",
    "    data=response.json()\n",
    "    payloadlist=list(response.json().keys())\n",
    "    payloadlist=[i=='payload' for i in payloadlist]\n",
    "    if any(payloadlist):\n",
    "        payload=data['payload'].keys()\n",
    "        print('pay load declared\\n')\n",
    "\n",
    "\n",
    "    else:\n",
    "        payloadkeys=[f'key{i}' for i in range(1,len(payloadlist)+1)]\n",
    "        payload=dict(zip(payloadkeys,payloadlist)) \n",
    "        print('pay load NOT declared\\n')\n",
    "\n",
    "    payloadinterestingkeys=payload_wo_page_keys(payload)\n",
    "    print(f\"These are your keys:\\n{payloadinterestingkeys}\")\n",
    "\n",
    "    return payloadinterestingkeys\n",
    "\n",
    "    \n",
    "\n",
    "def payload_wo_page_keys(payload):\n",
    "    payloadinterestingkeys=list(set(payload)-{'max_page', 'next_page', 'page', 'previous_page'})\n",
    "    \n",
    "    return payloadinterestingkeys\n"
   ]
  },
  {
   "cell_type": "code",
   "execution_count": 15,
   "metadata": {},
   "outputs": [
    {
     "name": "stdout",
     "output_type": "stream",
     "text": [
      "pay load NOT declared\n",
      "\n",
      "These are your keys:\n",
      "['key1', 'key2']\n"
     ]
    },
    {
     "data": {
      "text/plain": [
       "['key1', 'key2']"
      ]
     },
     "execution_count": 15,
     "metadata": {},
     "output_type": "execute_result"
    }
   ],
   "source": [
    "\n",
    "\n",
    "# https://aphorisms.glitch.me returns a random quotation\n",
    "base_url='http://aphorisms.glitch.me/'\n",
    "\n",
    "payloadinterestingkeys=payloadkeysFinder(base_url)"
   ]
  },
  {
   "cell_type": "code",
   "execution_count": 17,
   "metadata": {},
   "outputs": [
    {
     "name": "stdout",
     "output_type": "stream",
     "text": [
      "pay load declared\n",
      "\n",
      "These are your keys:\n",
      "['items']\n"
     ]
    }
   ],
   "source": [
    "full_url='https://python.zgulde.net/api/v1/items'\n",
    "\n",
    "payloadinterestingkeys=payloadkeysFinder(full_url)\n"
   ]
  },
  {
   "cell_type": "code",
   "execution_count": 41,
   "metadata": {},
   "outputs": [
    {
     "data": {
      "text/plain": [
       "'https://data.iana'"
      ]
     },
     "execution_count": 41,
     "metadata": {},
     "output_type": "execute_result"
    }
   ],
   "source": [
    "\n",
    "\n",
    "def toplevelURL():\n",
    "    full_url='https://data.iana.org/TLD/tlds-alpha-by-domain.txt'\n",
    "    response=requests.get(full_url)\n",
    "\n",
    "    data=(response.text)\n",
    "    data=data.split(sep='\\n')\n",
    "    data.pop(0)\n",
    "    data=['.'+i+'/' for i in data]\n",
    "    topleveldUpper=data\n",
    "    topleveldlower=[i.lower() for i in data]\n",
    "    topleveldUpper.extend(topleveldlower)\n",
    "    data=topleveldUpper\n",
    "    return data\n",
    "    \n",
    "data=toplevelURL()\n",
    "\n",
    "def baseURL(full_url):\n",
    "    full_urllen=len(full_url)\n",
    "    data=toplevelURL()\n",
    "    full_url\n",
    "    \n",
    "    for i in data:\n",
    "        full_url=full_url.strip()\n",
    "        full_url=full_url.replace(f'{i}',' ')\n",
    "        full_url=full_url.split(' ')\n",
    "        full_url=full_url[0]\n",
    "        full_url=full_url.strip()\n",
    "        if full_urllen != len(full_url):\n",
    "            break\n",
    "        else:\n",
    "            continue\n",
    "    return full_url\n",
    "baseurl=baseURL(full_url)\n",
    "baseurl\n",
    "\n"
   ]
  },
  {
   "cell_type": "code",
   "execution_count": null,
   "metadata": {},
   "outputs": [],
   "source": [
    "\n",
    "items=data['payload'][payloadkeys[0]]\n",
    "itemsdf=pd.DataFrame(items)\n",
    "itemsdf\n"
   ]
  },
  {
   "cell_type": "code",
   "execution_count": null,
   "metadata": {},
   "outputs": [],
   "source": [
    "data=response.json()\n",
    "print(data.keys())\n",
    "payload=data['payload']\n",
    "print(payload.keys())\n",
    "payloadkeys=set(payload.keys())\n",
    "payloadkeys=list(payloadkeys-{'next_page', 'max_page', 'previous_page', 'page'})\n",
    "print(payloadkeys)\n",
    "items=data['payload'][payloadkeys[0]]\n",
    "itemsdf=pd.DataFrame(items)\n",
    "itemsdf\n"
   ]
  },
  {
   "cell_type": "code",
   "execution_count": 96,
   "metadata": {},
   "outputs": [
    {
     "data": {
      "text/html": [
       "<div>\n",
       "<style scoped>\n",
       "    .dataframe tbody tr th:only-of-type {\n",
       "        vertical-align: middle;\n",
       "    }\n",
       "\n",
       "    .dataframe tbody tr th {\n",
       "        vertical-align: top;\n",
       "    }\n",
       "\n",
       "    .dataframe thead th {\n",
       "        text-align: right;\n",
       "    }\n",
       "</style>\n",
       "<table border=\"1\" class=\"dataframe\">\n",
       "  <thead>\n",
       "    <tr style=\"text-align: right;\">\n",
       "      <th></th>\n",
       "      <th>store_address</th>\n",
       "      <th>store_city</th>\n",
       "      <th>store_id</th>\n",
       "      <th>store_state</th>\n",
       "      <th>store_zipcode</th>\n",
       "    </tr>\n",
       "  </thead>\n",
       "  <tbody>\n",
       "    <tr>\n",
       "      <th>0</th>\n",
       "      <td>12125 Alamo Ranch Pkwy</td>\n",
       "      <td>San Antonio</td>\n",
       "      <td>1</td>\n",
       "      <td>TX</td>\n",
       "      <td>78253</td>\n",
       "    </tr>\n",
       "    <tr>\n",
       "      <th>1</th>\n",
       "      <td>9255 FM 471 West</td>\n",
       "      <td>San Antonio</td>\n",
       "      <td>2</td>\n",
       "      <td>TX</td>\n",
       "      <td>78251</td>\n",
       "    </tr>\n",
       "    <tr>\n",
       "      <th>2</th>\n",
       "      <td>2118 Fredericksburg Rdj</td>\n",
       "      <td>San Antonio</td>\n",
       "      <td>3</td>\n",
       "      <td>TX</td>\n",
       "      <td>78201</td>\n",
       "    </tr>\n",
       "    <tr>\n",
       "      <th>3</th>\n",
       "      <td>516 S Flores St</td>\n",
       "      <td>San Antonio</td>\n",
       "      <td>4</td>\n",
       "      <td>TX</td>\n",
       "      <td>78204</td>\n",
       "    </tr>\n",
       "    <tr>\n",
       "      <th>4</th>\n",
       "      <td>1520 Austin Hwy</td>\n",
       "      <td>San Antonio</td>\n",
       "      <td>5</td>\n",
       "      <td>TX</td>\n",
       "      <td>78218</td>\n",
       "    </tr>\n",
       "    <tr>\n",
       "      <th>5</th>\n",
       "      <td>1015 S WW White Rd</td>\n",
       "      <td>San Antonio</td>\n",
       "      <td>6</td>\n",
       "      <td>TX</td>\n",
       "      <td>78220</td>\n",
       "    </tr>\n",
       "    <tr>\n",
       "      <th>6</th>\n",
       "      <td>12018 Perrin Beitel Rd</td>\n",
       "      <td>San Antonio</td>\n",
       "      <td>7</td>\n",
       "      <td>TX</td>\n",
       "      <td>78217</td>\n",
       "    </tr>\n",
       "    <tr>\n",
       "      <th>7</th>\n",
       "      <td>15000 San Pedro Ave</td>\n",
       "      <td>San Antonio</td>\n",
       "      <td>8</td>\n",
       "      <td>TX</td>\n",
       "      <td>78232</td>\n",
       "    </tr>\n",
       "    <tr>\n",
       "      <th>8</th>\n",
       "      <td>735 SW Military Dr</td>\n",
       "      <td>San Antonio</td>\n",
       "      <td>9</td>\n",
       "      <td>TX</td>\n",
       "      <td>78221</td>\n",
       "    </tr>\n",
       "    <tr>\n",
       "      <th>9</th>\n",
       "      <td>8503 NW Military Hwy</td>\n",
       "      <td>San Antonio</td>\n",
       "      <td>10</td>\n",
       "      <td>TX</td>\n",
       "      <td>78231</td>\n",
       "    </tr>\n",
       "  </tbody>\n",
       "</table>\n",
       "</div>"
      ],
      "text/plain": [
       "             store_address   store_city  store_id store_state store_zipcode\n",
       "0   12125 Alamo Ranch Pkwy  San Antonio         1          TX         78253\n",
       "1         9255 FM 471 West  San Antonio         2          TX         78251\n",
       "2  2118 Fredericksburg Rdj  San Antonio         3          TX         78201\n",
       "3          516 S Flores St  San Antonio         4          TX         78204\n",
       "4          1520 Austin Hwy  San Antonio         5          TX         78218\n",
       "5       1015 S WW White Rd  San Antonio         6          TX         78220\n",
       "6   12018 Perrin Beitel Rd  San Antonio         7          TX         78217\n",
       "7      15000 San Pedro Ave  San Antonio         8          TX         78232\n",
       "8       735 SW Military Dr  San Antonio         9          TX         78221\n",
       "9     8503 NW Military Hwy  San Antonio        10          TX         78231"
      ]
     },
     "execution_count": 96,
     "metadata": {},
     "output_type": "execute_result"
    }
   ],
   "source": [
    "zguidestores=requests.get( 'https://python.zgulde.net/api/v1/stores')\n",
    "zguidestores=zguidestores.json()\n",
    "zguidestores=zguidestores['payload']['stores']\n",
    "pd.DataFrame(zguidestores)\n",
    "\n"
   ]
  },
  {
   "cell_type": "code",
   "execution_count": 97,
   "metadata": {},
   "outputs": [],
   "source": [
    "response=requests.get('https://python.zgulde.net/api/v1/sales')\n",
    "data=response.json()\n"
   ]
  },
  {
   "cell_type": "code",
   "execution_count": 99,
   "metadata": {},
   "outputs": [
    {
     "name": "stdout",
     "output_type": "stream",
     "text": [
      "{'error': '404 Not Found: The requested URL was not found on the server. If you entered the URL manually please check your spelling and try again.', 'status': 404}\n"
     ]
    }
   ],
   "source": [
    "\n",
    "\n",
    "base_url='https://python.zgulde.net/api/v1/sales'\n",
    "\n",
    "# zgsales['payload']['sales']\n",
    "response = requests.get(base_url + '/documentation')\n",
    "print(response.json())\n"
   ]
  },
  {
   "cell_type": "code",
   "execution_count": null,
   "metadata": {},
   "outputs": [],
   "source": [
    "\n",
    "df=pd.DataFrame(data['payload']['sales'])\n",
    "df"
   ]
  },
  {
   "cell_type": "code",
   "execution_count": null,
   "metadata": {},
   "outputs": [],
   "source": [
    "max=data['payload']['max_page']\n",
    "\n",
    "response = requests.get(base_url + data['payload']['next_page'])\n",
    "\n",
    "for i in range(0,max):\n",
    "  \n",
    "    response = requests.get(base_url + data['payload']['next_page'])\n",
    "\n",
    "    data = response.json()\n",
    "   \n",
    "    display(data)\n",
    "    df = pd.concat([df, pd.DataFrame(data['payload']['sales'])]).reset_index()\n",
    "\n"
   ]
  },
  {
   "cell_type": "code",
   "execution_count": null,
   "metadata": {},
   "outputs": [],
   "source": [
    "df\n",
    "\n",
    "\n",
    "\n"
   ]
  }
 ],
 "metadata": {
  "kernelspec": {
   "display_name": "Python 3.9.10 ('base')",
   "language": "python",
   "name": "python3"
  },
  "language_info": {
   "codemirror_mode": {
    "name": "ipython",
    "version": 3
   },
   "file_extension": ".py",
   "mimetype": "text/x-python",
   "name": "python",
   "nbconvert_exporter": "python",
   "pygments_lexer": "ipython3",
   "version": "3.9.10"
  },
  "orig_nbformat": 4,
  "vscode": {
   "interpreter": {
    "hash": "38cca0c38332a56087b24af0bc80247f4fced29cb4f7f437d91dc159adec9c4e"
   }
  }
 },
 "nbformat": 4,
 "nbformat_minor": 2
}
